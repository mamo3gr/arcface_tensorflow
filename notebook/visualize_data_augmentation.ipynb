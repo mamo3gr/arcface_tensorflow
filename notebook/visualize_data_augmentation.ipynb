{
 "cells": [
  {
   "cell_type": "code",
   "execution_count": null,
   "id": "5d96a216",
   "metadata": {},
   "outputs": [],
   "source": [
    "from typing import Tuple\n",
    "\n",
    "import matplotlib.pyplot as plt\n",
    "import tensorflow as tf\n",
    "import tensorflow_datasets as tfds\n",
    "from tensorflow.keras.applications.efficientnet import preprocess_input\n",
    "from tensorflow.keras.layers.experimental.preprocessing import (\n",
    "    CenterCrop,\n",
    "    RandomContrast,\n",
    "    RandomRotation,\n",
    "    RandomTranslation,\n",
    "    RandomZoom,\n",
    ")\n",
    "\n",
    "from config_loader import load_setting"
   ]
  },
  {
   "cell_type": "code",
   "execution_count": null,
   "id": "d8045731",
   "metadata": {},
   "outputs": [],
   "source": [
    "config_file = \"../configs/CASIA-maxpy-clean_align.yml\""
   ]
  },
  {
   "cell_type": "code",
   "execution_count": null,
   "id": "a187ae5c",
   "metadata": {},
   "outputs": [],
   "source": [
    "config = load_setting(config_file)"
   ]
  },
  {
   "cell_type": "code",
   "execution_count": null,
   "id": "6f4514e8",
   "metadata": {},
   "outputs": [],
   "source": [
    "AUTOTUNE = tf.data.AUTOTUNE\n",
    "\n",
    "@tfds.decode.make_decoder()\n",
    "def onehot_encoding(example, feature, depth):\n",
    "    return tf.one_hot(example, depth=depth, dtype=tf.int32)\n",
    "\n",
    "def get_dataset(\n",
    "    root_dir: str,\n",
    "    split: str,\n",
    "    input_shape: Tuple[int, int, int],\n",
    "    n_classes: int, \n",
    "    batch_size: int,\n",
    "    seed: int,\n",
    "    **kwargs\n",
    "):\n",
    "    read_config = tfds.ReadConfig(shuffle_seed=seed)\n",
    "    builder = tfds.ImageFolder(root_dir)\n",
    "    ds = builder.as_dataset(\n",
    "        split=split,\n",
    "        batch_size=batch_size,\n",
    "        shuffle_files=True,\n",
    "        decoders={\"label\": onehot_encoding(depth=n_classes)},\n",
    "        read_config=read_config,\n",
    "        as_supervised=True,\n",
    "    )\n",
    "\n",
    "    height, width, n_channels = input_shape\n",
    "    data_augmentation = tf.keras.Sequential(\n",
    "        [\n",
    "            RandomRotation(factor=0.05, fill_mode=\"nearest\", seed=seed),\n",
    "            RandomTranslation(\n",
    "                height_factor=0.1, width_factor=0.1, fill_mode=\"wrap\", seed=seed\n",
    "            ),\n",
    "            RandomZoom(height_factor=0.1, fill_mode=\"reflect\", seed=seed),\n",
    "            RandomContrast(factor=0.3, seed=seed),\n",
    "            CenterCrop(height=height, width=width),\n",
    "        ]\n",
    "    )\n",
    "\n",
    "    ds: tf.data.Dataset = (\n",
    "        ds.map(lambda x, y: (preprocess_input(x), y), num_parallel_calls=AUTOTUNE)\n",
    "        .map(lambda x, y: (data_augmentation(x), y), num_parallel_calls=AUTOTUNE)\n",
    "        .unbatch()\n",
    "    )\n",
    "        \n",
    "    return ds"
   ]
  },
  {
   "cell_type": "code",
   "execution_count": null,
   "id": "c2ba20c8",
   "metadata": {},
   "outputs": [],
   "source": [
    "ds = get_dataset(**config)"
   ]
  },
  {
   "cell_type": "code",
   "execution_count": null,
   "id": "125f20db",
   "metadata": {},
   "outputs": [],
   "source": [
    "n_rows = 5\n",
    "n_cols = 4\n",
    "n_samples = n_rows * n_cols\n",
    "\n",
    "fig = plt.figure(figsize=(n_rows, n_cols), dpi=300)\n",
    "for i, (x, _) in enumerate(ds.take(n_samples), 1):\n",
    "    ax = fig.add_subplot(n_rows, n_cols, i)\n",
    "    ax.imshow(x)\n",
    "    ax.axis('off')\n",
    "\n",
    "plt.show()"
   ]
  },
  {
   "cell_type": "code",
   "execution_count": null,
   "id": "dada2337",
   "metadata": {},
   "outputs": [],
   "source": []
  }
 ],
 "metadata": {
  "kernelspec": {
   "display_name": "Python 3",
   "language": "python",
   "name": "python3"
  },
  "language_info": {
   "codemirror_mode": {
    "name": "ipython",
    "version": 3
   },
   "file_extension": ".py",
   "mimetype": "text/x-python",
   "name": "python",
   "nbconvert_exporter": "python",
   "pygments_lexer": "ipython3",
   "version": "3.7.9"
  }
 },
 "nbformat": 4,
 "nbformat_minor": 5
}